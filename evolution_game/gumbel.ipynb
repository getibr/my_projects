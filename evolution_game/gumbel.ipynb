{
 "cells": [
  {
   "cell_type": "code",
   "execution_count": null,
   "metadata": {},
   "outputs": [],
   "source": [
    "import numpy as np\n",
    "\n",
    "\n",
    "def gumbel_pdf(x, loc, scale):\n",
    "    \"\"\"Returns the value of Gumbel pdf with parameters loc and scale at x .\n",
    "    \"\"\"\n",
    "    # substitute\n",
    "    z = (x - loc)/scale\n",
    "\n",
    "    return (1./scale) * (np.exp(-(z + (np.exp(-z)))))\n",
    "\n",
    "def gumbel_cdf(x, loc, scale):\n",
    "    \"\"\"Returns the value of Gumbel cdf with parameters loc and scale at x.\n",
    "    \"\"\"\n",
    "    return np.exp(-np.exp(-(x-loc)/scale))\n",
    "\n",
    "x1=gumbel_pdf(1,0.5,2)\n",
    "print(x1)\n",
    "\n"
   ]
  },
  {
   "cell_type": "code",
   "execution_count": null,
   "metadata": {},
   "outputs": [],
   "source": []
  },
  {
   "cell_type": "code",
   "execution_count": null,
   "metadata": {},
   "outputs": [],
   "source": []
  }
 ],
 "metadata": {
  "kernelspec": {
   "display_name": "Python 3",
   "language": "python",
   "name": "python3"
  },
  "language_info": {
   "codemirror_mode": {
    "name": "ipython",
    "version": 3
   },
   "file_extension": ".py",
   "mimetype": "text/x-python",
   "name": "python",
   "nbconvert_exporter": "python",
   "pygments_lexer": "ipython3",
   "version": "3.7.0"
  }
 },
 "nbformat": 4,
 "nbformat_minor": 2
}
