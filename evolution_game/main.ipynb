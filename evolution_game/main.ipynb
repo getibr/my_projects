{
 "cells": [
  {
   "cell_type": "code",
   "execution_count": 14,
   "metadata": {},
   "outputs": [
    {
     "name": "stdout",
     "output_type": "stream",
     "text": [
      "0.26503941097007716\n",
      "[1, 1, -1, 1, -1]\n",
      "0\n"
     ]
    }
   ],
   "source": [
    "import random_sigmas\n",
    "import last_random_sigmas\n",
    "import n_for_gamer_i\n",
    "import peyment_for_gamer\n",
    "import var\n",
    "\n",
    "N=var.N()\n",
    "igr_i=var.ig_i()\n",
    "\n",
    "#Раскомментировать, чтобы выбрать новый набор стартовых стратегий\n",
    "#start_sigmas=random_sigmas.start_new_strategies(N)\n",
    "start_sigmas=last_random_sigmas.start_strategies(N)\n",
    "n=n_for_gamer_i.n_for_gamer_i(igr_i,start_sigmas)\n",
    "p=peyment_for_gamer.peyment_for_gamer(igr_i,start_sigmas)\n",
    "print(p)\n",
    "print(start_sigmas)\n",
    "print(n)\n",
    "\n",
    "\n"
   ]
  },
  {
   "cell_type": "code",
   "execution_count": 11,
   "metadata": {
    "slideshow": {
     "slide_type": "-"
    }
   },
   "outputs": [],
   "source": [
    "def N():\n",
    "    N=5\n",
    "    return(N)\n",
    "\n",
    "def J():\n",
    "    J=1\n",
    "    return(J)\n",
    "\n",
    "def T():\n",
    "    T=10\n",
    "    return(T)\n",
    "\n",
    "def ig_i():\n",
    "    i=0\n",
    "    return(i)\n",
    "\n",
    "    \n",
    "\n"
   ]
  },
  {
   "cell_type": "code",
   "execution_count": null,
   "metadata": {},
   "outputs": [],
   "source": []
  },
  {
   "cell_type": "code",
   "execution_count": null,
   "metadata": {},
   "outputs": [],
   "source": []
  }
 ],
 "metadata": {
  "kernelspec": {
   "display_name": "Python 3",
   "language": "python",
   "name": "python3"
  },
  "language_info": {
   "codemirror_mode": {
    "name": "ipython",
    "version": 3
   },
   "file_extension": ".py",
   "mimetype": "text/x-python",
   "name": "python",
   "nbconvert_exporter": "python",
   "pygments_lexer": "ipython3",
   "version": "3.7.0"
  }
 },
 "nbformat": 4,
 "nbformat_minor": 2
}
